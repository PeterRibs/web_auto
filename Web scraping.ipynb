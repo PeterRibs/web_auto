{
 "cells": [
  {
   "cell_type": "markdown",
   "id": "39edfd2f",
   "metadata": {},
   "source": [
    "# Simple web scraping"
   ]
  },
  {
   "cell_type": "code",
   "execution_count": 1,
   "id": "b5d48555",
   "metadata": {},
   "outputs": [],
   "source": [
    "from selenium import  webdriver\n",
    "from bs4 import BeautifulSoup\n",
    "import urllib.request"
   ]
  },
  {
   "cell_type": "code",
   "execution_count": 2,
   "id": "29a3b18b",
   "metadata": {},
   "outputs": [],
   "source": [
    "# Portfolio URL\n",
    "url = \"https://peterribs.github.io/portfolio/\""
   ]
  },
  {
   "cell_type": "code",
   "execution_count": 3,
   "id": "12744306",
   "metadata": {},
   "outputs": [],
   "source": [
    "browser = webdriver.Chrome() # open browser\n",
    "browser.get(\"https://peterribs.github.io/portfolio/\")"
   ]
  },
  {
   "cell_type": "code",
   "execution_count": 4,
   "id": "90d337a8",
   "metadata": {},
   "outputs": [
    {
     "name": "stderr",
     "output_type": "stream",
     "text": [
      "<ipython-input-4-b5b3b39bd160>:3: DeprecationWarning: find_element_by_xpath is deprecated. Please use find_element(by=By.XPATH, value=xpath) instead\n",
      "  browser.find_element_by_xpath('//*[@id=\"projects\"]/div/div/div[20]/div/div[2]/a').click()\n"
     ]
    },
    {
     "name": "stdout",
     "output_type": "stream",
     "text": [
      "https://peterribs.github.io/ToDoList/\n"
     ]
    },
    {
     "name": "stderr",
     "output_type": "stream",
     "text": [
      "<ipython-input-4-b5b3b39bd160>:4: DeprecationWarning: find_element_by_xpath is deprecated. Please use find_element(by=By.XPATH, value=xpath) instead\n",
      "  url_cur = browser.find_element_by_xpath('//*[@id=\"projects\"]/div/div/div[20]/div/div[2]/a').get_attribute('href')\n"
     ]
    }
   ],
   "source": [
    "browser = webdriver.Chrome() # abre navegador\n",
    "browser.get(\"https://peterribs.github.io/portfolio/\")\n",
    "browser.find_element_by_xpath('//*[@id=\"projects\"]/div/div/div[20]/div/div[2]/a').click()\n",
    "url_cur = browser.find_element_by_xpath('//*[@id=\"projects\"]/div/div/div[20]/div/div[2]/a').get_attribute('href')\n",
    "print(url_cur)"
   ]
  },
  {
   "cell_type": "code",
   "execution_count": 5,
   "id": "00b69e3d",
   "metadata": {},
   "outputs": [],
   "source": [
    "#Crie uma def para fazer o request no site\n",
    "def get_web_content(url):\n",
    "    \n",
    "    page = urllib.request.urlopen(url).read()\n",
    "    soup = BeautifulSoup(page, \"html.parser\")\n",
    "    \n",
    "    return soup"
   ]
  },
  {
   "cell_type": "code",
   "execution_count": 6,
   "id": "39dacc38",
   "metadata": {},
   "outputs": [],
   "source": [
    "content_scraped = get_web_content(url_cur)"
   ]
  },
  {
   "cell_type": "code",
   "execution_count": 7,
   "id": "2ef8ae17",
   "metadata": {},
   "outputs": [
    {
     "data": {
      "text/plain": [
       "<!DOCTYPE html>\n",
       "\n",
       "<html>\n",
       "<head>\n",
       "<title>ToDoList</title>\n",
       "<link href=\"style.css\" rel=\"stylesheet\" type=\"text/css\"/>\n",
       "</head>\n",
       "<body>\n",
       "<div class=\"todolist\">\n",
       "<h1>To Do List</h1>\n",
       "<div class=\"sup\">\n",
       "<input placeholder=\"Item\" type=\"text\"/>\n",
       "<button onclick=\"enterBtnAdd()\">Add</button>\n",
       "</div>\n",
       "<div class=\"listAlign\">\n",
       "<ul>\n",
       "<li>HTML <button>delete</button></li>\n",
       "<li>CSS <button>delete</button></li>\n",
       "<li>Javascript <button>delete</button></li>\n",
       "</ul>\n",
       "</div>\n",
       "<script src=\"script.js\" type=\"text/javascript\"></script>\n",
       "</div>\n",
       "</body>\n",
       "</html>"
      ]
     },
     "execution_count": 7,
     "metadata": {},
     "output_type": "execute_result"
    }
   ],
   "source": [
    "content_scraped"
   ]
  },
  {
   "cell_type": "code",
   "execution_count": 8,
   "id": "b4f624a8",
   "metadata": {},
   "outputs": [
    {
     "name": "stdout",
     "output_type": "stream",
     "text": [
      "<!DOCTYPE html>\n",
      "<html>\n",
      " <head>\n",
      "  <title>\n",
      "   ToDoList\n",
      "  </title>\n",
      "  <link href=\"style.css\" rel=\"stylesheet\" type=\"text/css\"/>\n",
      " </head>\n",
      " <body>\n",
      "  <div class=\"todolist\">\n",
      "   <h1>\n",
      "    To Do List\n",
      "   </h1>\n",
      "   <div class=\"sup\">\n",
      "    <input placeholder=\"Item\" type=\"text\"/>\n",
      "    <button onclick=\"enterBtnAdd()\">\n",
      "     Add\n",
      "    </button>\n",
      "   </div>\n",
      "   <div class=\"listAlign\">\n",
      "    <ul>\n",
      "     <li>\n",
      "      HTML\n",
      "      <button>\n",
      "       delete\n",
      "      </button>\n",
      "     </li>\n",
      "     <li>\n",
      "      CSS\n",
      "      <button>\n",
      "       delete\n",
      "      </button>\n",
      "     </li>\n",
      "     <li>\n",
      "      Javascript\n",
      "      <button>\n",
      "       delete\n",
      "      </button>\n",
      "     </li>\n",
      "    </ul>\n",
      "   </div>\n",
      "   <script src=\"script.js\" type=\"text/javascript\">\n",
      "   </script>\n",
      "  </div>\n",
      " </body>\n",
      "</html>\n"
     ]
    }
   ],
   "source": [
    "print(content_scraped.prettify())"
   ]
  },
  {
   "cell_type": "code",
   "execution_count": 9,
   "id": "0880e411",
   "metadata": {},
   "outputs": [],
   "source": [
    "liTag = content_scraped.find_all(\"li\")"
   ]
  },
  {
   "cell_type": "code",
   "execution_count": 10,
   "id": "a9c4411c",
   "metadata": {},
   "outputs": [
    {
     "data": {
      "text/plain": [
       "'CSS'"
      ]
     },
     "execution_count": 10,
     "metadata": {},
     "output_type": "execute_result"
    }
   ],
   "source": [
    "liTag[1].getText().split(' delete')[0]"
   ]
  },
  {
   "cell_type": "code",
   "execution_count": 11,
   "id": "e23d6f76",
   "metadata": {},
   "outputs": [],
   "source": [
    "cat_list = list()\n",
    "\n",
    "for i in range(len(liTag)):\n",
    "    cat_list.append(liTag[i].getText().split(' delete')[0])"
   ]
  },
  {
   "cell_type": "code",
   "execution_count": 12,
   "id": "8ed85335",
   "metadata": {},
   "outputs": [
    {
     "data": {
      "text/plain": [
       "['HTML', 'CSS', 'Javascript']"
      ]
     },
     "execution_count": 12,
     "metadata": {},
     "output_type": "execute_result"
    }
   ],
   "source": [
    "cat_list"
   ]
  }
 ],
 "metadata": {
  "kernelspec": {
   "display_name": "Python 3",
   "language": "python",
   "name": "python3"
  },
  "language_info": {
   "codemirror_mode": {
    "name": "ipython",
    "version": 3
   },
   "file_extension": ".py",
   "mimetype": "text/x-python",
   "name": "python",
   "nbconvert_exporter": "python",
   "pygments_lexer": "ipython3",
   "version": "3.9.5"
  }
 },
 "nbformat": 4,
 "nbformat_minor": 5
}
